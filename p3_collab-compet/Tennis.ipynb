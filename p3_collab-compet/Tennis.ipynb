{
 "cells": [
  {
   "cell_type": "markdown",
   "metadata": {},
   "source": [
    "# Collaboration and Competition\n",
    "\n",
    "---\n",
    "\n",
    "In this notebook, you will learn how to use the Unity ML-Agents environment for the third project of the [Deep Reinforcement Learning Nanodegree](https://www.udacity.com/course/deep-reinforcement-learning-nanodegree--nd893) program.\n",
    "\n",
    "### 1. Start the Environment\n",
    "\n",
    "We begin by importing the necessary packages.  If the code cell below returns an error, please revisit the project instructions to double-check that you have installed [Unity ML-Agents](https://github.com/Unity-Technologies/ml-agents/blob/master/docs/Installation.md) and [NumPy](http://www.numpy.org/)."
   ]
  },
  {
   "cell_type": "code",
   "execution_count": 1,
   "metadata": {},
   "outputs": [],
   "source": [
    "from unityagents import UnityEnvironment\n",
    "import numpy as np\n",
    "import matplotlib.pyplot as plt \n",
    "%matplotlib inline "
   ]
  },
  {
   "cell_type": "code",
   "execution_count": 2,
   "metadata": {},
   "outputs": [
    {
     "name": "stderr",
     "output_type": "stream",
     "text": [
      "INFO:unityagents:\n",
      "'Academy' started successfully!\n",
      "Unity Academy name: Academy\n",
      "        Number of Brains: 1\n",
      "        Number of External Brains : 1\n",
      "        Lesson number : 0\n",
      "        Reset Parameters :\n",
      "\t\t\n",
      "Unity brain name: TennisBrain\n",
      "        Number of Visual Observations (per agent): 0\n",
      "        Vector Observation space type: continuous\n",
      "        Vector Observation space size (per agent): 8\n",
      "        Number of stacked Vector Observation: 3\n",
      "        Vector Action space type: continuous\n",
      "        Vector Action space size (per agent): 2\n",
      "        Vector Action descriptions: , \n"
     ]
    }
   ],
   "source": [
    "env = UnityEnvironment(file_name=\"./Tennis_Windows_x86_64/Tennis.exe\")"
   ]
  },
  {
   "cell_type": "markdown",
   "metadata": {},
   "source": [
    "Environments contain **_brains_** which are responsible for deciding the actions of their associated agents. Here we check for the first brain available, and set it as the default brain we will be controlling from Python."
   ]
  },
  {
   "cell_type": "code",
   "execution_count": 3,
   "metadata": {},
   "outputs": [],
   "source": [
    "# get the default brain\n",
    "brain_name = env.brain_names[0]\n",
    "brain = env.brains[brain_name]"
   ]
  },
  {
   "cell_type": "markdown",
   "metadata": {},
   "source": [
    "### 2. Examine the State and Action Spaces\n",
    "\n",
    "In this environment, two agents control rackets to bounce a ball over a net. If an agent hits the ball over the net, it receives a reward of +0.1.  If an agent lets a ball hit the ground or hits the ball out of bounds, it receives a reward of -0.01.  Thus, the goal of each agent is to keep the ball in play.\n",
    "\n",
    "The observation space consists of 8 variables corresponding to the position and velocity of the ball and racket. Two continuous actions are available, corresponding to movement toward (or away from) the net, and jumping. \n",
    "\n",
    "Run the code cell below to print some information about the environment."
   ]
  },
  {
   "cell_type": "code",
   "execution_count": 4,
   "metadata": {},
   "outputs": [
    {
     "name": "stdout",
     "output_type": "stream",
     "text": [
      "Number of agents: 2\n",
      "Size of each action: 2\n",
      "There are 2 agents. Each observes a state with length: 24\n",
      "The state for the first agent looks like: [ 0.          0.          0.          0.          0.          0.\n",
      "  0.          0.          0.          0.          0.          0.\n",
      "  0.          0.          0.          0.         -6.65278625 -1.5\n",
      " -0.          0.          6.83172083  6.         -0.          0.        ]\n"
     ]
    }
   ],
   "source": [
    "# reset the environment\n",
    "env_info = env.reset(train_mode=True)[brain_name]\n",
    "\n",
    "# number of agents \n",
    "num_agents = len(env_info.agents)\n",
    "print('Number of agents:', num_agents)\n",
    "\n",
    "# size of each action\n",
    "action_size = brain.vector_action_space_size\n",
    "print('Size of each action:', action_size)\n",
    "\n",
    "# examine the state space \n",
    "states = env_info.vector_observations\n",
    "state_size = states.shape[1]\n",
    "print('There are {} agents. Each observes a state with length: {}'.format(states.shape[0], state_size))\n",
    "print('The state for the first agent looks like:', states[0])"
   ]
  },
  {
   "cell_type": "markdown",
   "metadata": {},
   "source": [
    "### 4. It's Your Turn!\n",
    "\n",
    "Now it's your turn to train your own agent to solve the environment!  When training the environment, set `train_mode=True`, so that the line for resetting the environment looks like the following:\n",
    "```python\n",
    "env_info = env.reset(train_mode=True)[brain_name]\n",
    "```"
   ]
  },
  {
   "cell_type": "code",
   "execution_count": 5,
   "metadata": {},
   "outputs": [],
   "source": [
    "from collections import deque, namedtuple\n",
    "import torch\n",
    "import random\n",
    "\n",
    "BATCH_SIZE = 128\n",
    "BUFFER_SIZE = int(1e6)\n",
    "UPDATE_EVERY = 4\n",
    "SEED = 0"
   ]
  },
  {
   "cell_type": "code",
   "execution_count": 6,
   "metadata": {},
   "outputs": [],
   "source": [
    "device = torch.device('cuda:0' if torch.cuda.is_available() else 'cpu')\n",
    "class ReplayBuffer:\n",
    "    \"\"\" Fixed-size buffer to store experience tuples.\"\"\"\n",
    "\n",
    "    def __init__(self, batch_size, buffer_size, seed):\n",
    "        self.batch_size = batch_size\n",
    "        self.memory = deque(maxlen=buffer_size)\n",
    "        self.experience = namedtuple('Experience', field_names=['state', 'action', 'reward', 'next_state', 'done'])\n",
    "        self.seed = random.seed(seed)\n",
    "\n",
    "    def add(self, state, action, reward, next_state, done):\n",
    "        e = self.experience(state=state, action=action, reward=reward, next_state=next_state, done=done)\n",
    "        self.memory.append(e)\n",
    "\n",
    "    def sample(self):\n",
    "        experiences = random.sample(self.memory, k=self.batch_size)\n",
    "        states = torch.from_numpy(np.vstack([np.reshape(e.state, (1, -1)) for e in experiences if e is not None])).float().to(device)\n",
    "        actions = torch.from_numpy(np.vstack([np.reshape(e.action, (1, -1)) for e in experiences if e is not None])).float().to(device)\n",
    "        rewards = torch.from_numpy(np.vstack([e.reward for e in experiences if e is not None])).float().to(device)\n",
    "        next_states = torch.from_numpy(np.vstack([np.reshape(e.next_state, (1, -1)) for e in experiences if e is not None])).float().to(\n",
    "            device)\n",
    "        dones = torch.from_numpy(np.vstack([e.done for e in experiences if e is not None]).astype(np.uint8)).float().to(device)\n",
    "        return (states, actions, rewards, next_states, dones)\n",
    "\n",
    "    def __len__(self):\n",
    "        return len(self.memory)\n"
   ]
  },
  {
   "cell_type": "markdown",
   "metadata": {},
   "source": [
    "### Solution 1: MADDPG algorithm from the paper \n",
    "\n",
    "Here the task is solved using the algorithm mentioned in the MADDPG paper by Lowe et al. This algorithm in the paper covers the general case where the agents involved in the task could be fully co-operative, or fully competitive or mixed co-operative competitive in the environment. "
   ]
  },
  {
   "cell_type": "code",
   "execution_count": 7,
   "metadata": {
    "scrolled": false
   },
   "outputs": [
    {
     "name": "stderr",
     "output_type": "stream",
     "text": [
      "c:\\users\\bsankaranarayanan2\\pycharmprojects\\udacity_drl_nd\\venv\\lib\\site-packages\\torch\\nn\\functional.py:1628: UserWarning: nn.functional.tanh is deprecated. Use torch.tanh instead.\n",
      "  warnings.warn(\"nn.functional.tanh is deprecated. Use torch.tanh instead.\")\n"
     ]
    },
    {
     "name": "stdout",
     "output_type": "stream",
     "text": [
      " Episode 0 \t Average Score: 0.000\n",
      " Episode 100 \t Average Score: 0.008\n",
      " Episode 200 \t Average Score: 0.005\n",
      " Episode 300 \t Average Score: 0.001\n",
      " Episode 400 \t Average Score: 0.000\n",
      " Episode 500 \t Average Score: 0.000\n",
      " Episode 600 \t Average Score: 0.000\n",
      " Episode 700 \t Average Score: 0.000\n",
      " Episode 800 \t Average Score: 0.000\n",
      " Episode 900 \t Average Score: 0.000\n",
      " Episode 1000 \t Average Score: 0.001\n",
      " Episode 1100 \t Average Score: 0.000\n",
      " Episode 1200 \t Average Score: 0.040\n",
      " Episode 1300 \t Average Score: 0.027\n",
      " Episode 1400 \t Average Score: 0.017\n",
      " Episode 1500 \t Average Score: 0.040\n",
      " Episode 1600 \t Average Score: 0.022\n",
      " Episode 1700 \t Average Score: 0.017\n",
      " Episode 1800 \t Average Score: 0.018\n",
      " Episode 1900 \t Average Score: 0.018\n",
      " Episode 2000 \t Average Score: 0.029\n",
      " Episode 2100 \t Average Score: 0.029\n",
      " Episode 2200 \t Average Score: 0.053\n",
      " Episode 2300 \t Average Score: 0.044\n",
      " Episode 2400 \t Average Score: 0.048\n",
      " Episode 2500 \t Average Score: 0.055\n",
      " Episode 2600 \t Average Score: 0.093\n",
      " Episode 2700 \t Average Score: 0.085\n",
      " Episode 2800 \t Average Score: 0.103\n",
      " Episode 2900 \t Average Score: 0.111\n",
      " Episode 3000 \t Average Score: 0.118\n",
      " Episode 3100 \t Average Score: 0.100\n",
      " Episode 3200 \t Average Score: 0.088\n",
      " Episode 3300 \t Average Score: 0.096\n",
      " Episode 3400 \t Average Score: 0.096\n",
      " Episode 3500 \t Average Score: 0.107\n",
      " Episode 3600 \t Average Score: 0.133\n",
      " Episode 3700 \t Average Score: 0.178\n",
      " Episode 3800 \t Average Score: 0.169\n",
      " Episode 3900 \t Average Score: 0.150\n",
      " Episode 4000 \t Average Score: 0.164\n",
      " Episode 4100 \t Average Score: 0.180\n",
      " Episode 4200 \t Average Score: 0.151\n",
      " Episode 4300 \t Average Score: 0.255\n",
      " Episode 4400 \t Average Score: 0.298\n",
      " Episode 4500 \t Average Score: 0.329\n",
      " Episode 4600 \t Average Score: 0.261\n",
      " Episode 4700 \t Average Score: 0.247\n",
      " Episode 4800 \t Average Score: 0.271\n",
      " Episode 4900 \t Average Score: 0.229\n",
      " Episode 5000 \t Average Score: 0.307\n",
      " Episode 5100 \t Average Score: 0.274\n",
      " Episode 5200 \t Average Score: 0.309\n",
      " Episode 5300 \t Average Score: 0.388\n",
      " \t ****Task learned in 5387 episodes****\n"
     ]
    }
   ],
   "source": [
    "from maddpg_agent import Agent\n",
    "def maddpg(num_episodes=12000, print_every=100):\n",
    "    replay_memory = ReplayBuffer(BATCH_SIZE, BUFFER_SIZE, SEED)\n",
    "    display_flag = 1\n",
    "    scores_deque = deque(maxlen=100)\n",
    "    scores = []\n",
    "    agents = []\n",
    "    for agent_id in range(num_agents):\n",
    "        agents.append(Agent(agent_id, num_agents, state_size, action_size))\n",
    "    # Now on, let us assume the first component of states, rewards, done from the environment correspond to agent 0.\n",
    "    for i_episode in range(num_episodes):\n",
    "        env_info = env.reset(train_mode=True)[brain_name]\n",
    "        states = env_info.vector_observations\n",
    "        for agent_id in range(num_agents):\n",
    "            agents[agent_id].reset()\n",
    "        score = np.zeros(num_agents)\n",
    "        t = 0\n",
    "        while True:\n",
    "            actions = []\n",
    "            with torch.no_grad():\n",
    "                for agent_id in range(num_agents):\n",
    "                    actions.append(agents[agent_id].act(states[agent_id, :]))\n",
    "                actions = np.squeeze(np.array(actions), axis=1)\n",
    "            env_info = env.step(actions)[brain_name]\n",
    "            next_states = env_info.vector_observations\n",
    "            rewards = env_info.rewards\n",
    "            dones = env_info.local_done\n",
    "            replay_memory.add(states, actions, rewards, next_states, dones)\n",
    "            t = t + 1\n",
    "            temp_t = t % UPDATE_EVERY\n",
    "            if temp_t == 0:\n",
    "                if len(replay_memory) > BATCH_SIZE:\n",
    "                    for agent_id in range(num_agents):\n",
    "                        experiences = replay_memory.sample()\n",
    "                        other_agents = agents.copy()\n",
    "                        other_agents.remove(agents[agent_id])\n",
    "                        agents[agent_id].learn(experiences, other_agents)\n",
    "\n",
    "            score += env_info.rewards\n",
    "            states = next_states\n",
    "            if np.any(dones):\n",
    "                break\n",
    "        scores.append(score)\n",
    "        scores_deque.append(np.max(score))\n",
    "\n",
    "        print('\\rEpisode {} \\t Score: {:.3f}, {:.3f}'.format(i_episode, score[0], score[1]), end='')\n",
    "        if i_episode % print_every == 0:\n",
    "            print('\\r Episode {} \\t Average Score: {:.3f}'.format(i_episode, np.mean(scores_deque)))\n",
    "        if np.mean(scores_deque) >= 0.5 and display_flag:\n",
    "            print('\\r Episode {} \\t Average Score: {:.3f}'.format(i_episode, np.mean(scores_deque)))\n",
    "            print('\\r \\t ****Task learned in {} episodes****'.format(i_episode))\n",
    "            display_flag = 0\n",
    "            break\n",
    "    for i in range(num_agents):\n",
    "        torch.save(agents[i].actor_local.state_dict(), 'checkpoint_actor_' + str(i) + '.pth')\n",
    "        torch.save(agents[i].critic_local.state_dict(), 'checkpoint_critic_' + str(i) + '.pth')\n",
    "\n",
    "    return scores\n",
    "\n",
    "scores = maddpg()"
   ]
  },
  {
   "cell_type": "code",
   "execution_count": 8,
   "metadata": {},
   "outputs": [],
   "source": [
    "scores = np.array(scores)\n",
    "max_scores = np.max(scores, 1)"
   ]
  },
  {
   "cell_type": "code",
   "execution_count": 9,
   "metadata": {},
   "outputs": [
    {
     "data": {
      "text/plain": [
       "Text(0, 0.5, 'Reward per episode')"
      ]
     },
     "execution_count": 9,
     "metadata": {},
     "output_type": "execute_result"
    },
    {
     "data": {
      "image/png": "[encoded data removed]",
      "text/plain": [
       "<Figure size 432x288 with 1 Axes>"
      ]
     },
     "metadata": {
      "needs_background": "light"
     },
     "output_type": "display_data"
    }
   ],
   "source": [
    "running_window_length = 100\n",
    "running_avg = np.zeros((len(max_scores), ))\n",
    "for i in range(running_window_length, len(max_scores)):\n",
    "    running_avg[i] = np.mean(max_scores[i-100:i])\n",
    "plt.plot(max_scores, 'b')\n",
    "plt.plot(running_avg, 'r')\n",
    "plt.title('Reward obtained per episode using MADDPG(for the general case)')\n",
    "plt.xlabel('Episode number')\n",
    "plt.ylabel('Reward per episode')"
   ]
  },
  {
   "cell_type": "markdown",
   "metadata": {},
   "source": [
    "### Solution 2 - MADDPG algorithm, same as in the paper, except using a common critic for both the agents\n",
    "\n",
    "#### The solution learns the task but not working as an intended improvement to MADDPG. \n",
    "\n",
    "For the Tennis playing task described in the problem statement, it is observed that the two agents are required to be fully co-operative to achieve the maximum reward and learn the task. This is a specific case of two fully **co-operative agents** playing in the Tennis environment, with the common goal of trying to keep the ball in the game for as long as possible. Hence, it is worth a try to use a common critic in the general MADDPG algorithm in order to try and improve the learning speed."
   ]
  },
  {
   "cell_type": "markdown",
   "metadata": {},
   "source": [
    "The aim was to get the agents to learn faster than the vanilla DDPG using this solution implemented below. However, due to issues with hyper-parameter tuning, a big improvement is not seen. Nevertheless, it was worth a try."
   ]
  },
  {
   "cell_type": "code",
   "execution_count": 7,
   "metadata": {},
   "outputs": [
    {
     "name": "stderr",
     "output_type": "stream",
     "text": [
      "c:\\users\\bsankaranarayanan2\\pycharmprojects\\udacity_drl_nd\\venv\\lib\\site-packages\\torch\\nn\\functional.py:1628: UserWarning: nn.functional.tanh is deprecated. Use torch.tanh instead.\n",
      "  warnings.warn(\"nn.functional.tanh is deprecated. Use torch.tanh instead.\")\n"
     ]
    },
    {
     "name": "stdout",
     "output_type": "stream",
     "text": [
      " Episode 0 \t Average Score: 0.000\n",
      " Episode 100 \t Average Score: 0.017\n",
      " Episode 200 \t Average Score: 0.001\n",
      " Episode 300 \t Average Score: 0.007\n",
      " Episode 400 \t Average Score: 0.035\n",
      " Episode 500 \t Average Score: 0.037\n",
      " Episode 600 \t Average Score: 0.047\n",
      " Episode 700 \t Average Score: 0.046\n",
      " Episode 800 \t Average Score: 0.047\n",
      " Episode 900 \t Average Score: 0.049\n",
      " Episode 1000 \t Average Score: 0.056\n",
      " Episode 1100 \t Average Score: 0.036\n",
      " Episode 1200 \t Average Score: 0.036\n",
      " Episode 1300 \t Average Score: 0.057\n",
      " Episode 1400 \t Average Score: 0.050\n",
      " Episode 1500 \t Average Score: 0.057\n",
      " Episode 1600 \t Average Score: 0.088\n",
      " Episode 1700 \t Average Score: 0.083\n",
      " Episode 1800 \t Average Score: 0.083\n",
      " Episode 1900 \t Average Score: 0.094\n",
      " Episode 2000 \t Average Score: 0.089\n",
      " Episode 2100 \t Average Score: 0.100\n",
      " Episode 2200 \t Average Score: 0.101\n",
      " Episode 2300 \t Average Score: 0.075\n",
      " Episode 2400 \t Average Score: 0.094\n",
      " Episode 2500 \t Average Score: 0.098\n",
      " Episode 2600 \t Average Score: 0.107\n",
      " Episode 2700 \t Average Score: 0.097\n",
      " Episode 2800 \t Average Score: 0.118\n",
      " Episode 2900 \t Average Score: 0.103\n",
      " Episode 3000 \t Average Score: 0.120\n",
      " Episode 3100 \t Average Score: 0.115\n",
      " Episode 3200 \t Average Score: 0.139\n",
      " Episode 3300 \t Average Score: 0.143\n",
      " Episode 3400 \t Average Score: 0.158\n",
      " Episode 3500 \t Average Score: 0.130\n",
      " Episode 3600 \t Average Score: 0.125\n",
      " Episode 3700 \t Average Score: 0.129\n",
      " Episode 3800 \t Average Score: 0.121\n",
      " Episode 3900 \t Average Score: 0.133\n",
      " Episode 4000 \t Average Score: 0.147\n",
      " Episode 4100 \t Average Score: 0.134\n",
      " Episode 4200 \t Average Score: 0.134\n",
      " Episode 4300 \t Average Score: 0.133\n",
      " Episode 4400 \t Average Score: 0.154\n",
      " Episode 4500 \t Average Score: 0.165\n",
      " Episode 4600 \t Average Score: 0.240\n",
      " Episode 4700 \t Average Score: 0.203\n",
      " Episode 4800 \t Average Score: 0.214\n",
      " Episode 4900 \t Average Score: 0.192\n",
      "Episode 4999 \t Score: 0.100, 0.0900"
     ]
    }
   ],
   "source": [
    "from maddpg_common_critic import Agent\n",
    "def maddpg_common_critic(num_episodes=5000, print_every=100):\n",
    "    replay_memory = ReplayBuffer(BATCH_SIZE, BUFFER_SIZE, SEED)\n",
    "    display_flag = 1\n",
    "    scores_deque = deque(maxlen=100)\n",
    "    scores = []\n",
    "    agents = []\n",
    "    for agent_id in range(num_agents):\n",
    "        agents.append(Agent(agent_id, num_agents, state_size, action_size))\n",
    "        \n",
    "    # assume the first component of states, rewards, done from the environment correspond to agent 0.\n",
    "    for i_episode in range(num_episodes):\n",
    "        env_info = env.reset(train_mode=True)[brain_name]\n",
    "        states = env_info.vector_observations\n",
    "        for agent_id in range(num_agents):\n",
    "            agents[agent_id].reset()\n",
    "        score = np.zeros(num_agents)\n",
    "        t = 0\n",
    "        while True:\n",
    "            actions = []\n",
    "            with torch.no_grad():\n",
    "                for agent_id in range(num_agents):\n",
    "                    actions.append(agents[agent_id].act(states[agent_id, :]))\n",
    "                actions = np.squeeze(np.array(actions), axis=1)\n",
    "            env_info = env.step(actions)[brain_name]\n",
    "            next_states = env_info.vector_observations\n",
    "            rewards = env_info.rewards\n",
    "            dones = env_info.local_done\n",
    "            replay_memory.add(states, actions, rewards, next_states, dones)\n",
    "            t = t + 1\n",
    "            temp_t = t % UPDATE_EVERY\n",
    "            if temp_t == 0:\n",
    "                if len(replay_memory) > BATCH_SIZE:\n",
    "                    for agent_id in range(num_agents):\n",
    "                        experiences = replay_memory.sample()\n",
    "                        other_agents = agents.copy()\n",
    "                        other_agents.remove(agents[agent_id])\n",
    "                        agents[agent_id].learn(experiences, other_agents)\n",
    "\n",
    "            score += env_info.rewards\n",
    "            states = next_states\n",
    "            if np.any(dones):\n",
    "                break\n",
    "        scores.append(score)\n",
    "        scores_deque.append(np.max(score))\n",
    "\n",
    "        print('\\rEpisode {} \\t Score: {:.3f}, {:.3f}'.format(i_episode, score[0], score[1]), end='')\n",
    "        if i_episode % print_every == 0:\n",
    "            print('\\r Episode {} \\t Average Score: {:.3f}'.format(i_episode, np.mean(scores_deque)))\n",
    "        if np.mean(scores_deque) >= 0.5 and display_flag:\n",
    "            print('\\r Episode {} \\t Average Score: {:.3f}'.format(i_episode, np.mean(scores_deque)))\n",
    "            print('\\r \\t ****Task learned in {} episodes****'.format(i_episode))\n",
    "            display_flag = 0\n",
    "            break\n",
    "    for i in range(num_agents):\n",
    "        torch.save(agents[i].actor_local.state_dict(), 'checkpoint_actor_' + str(i) + '.pth')\n",
    "        torch.save(agents[i].critic_local.state_dict(), 'checkpoint_critic_' + str(i) + '.pth')\n",
    "\n",
    "    return scores\n",
    "\n",
    "scores = maddpg_common_critic()"
   ]
  },
  {
   "cell_type": "code",
   "execution_count": 8,
   "metadata": {},
   "outputs": [
    {
     "data": {
      "text/plain": [
       "Text(0, 0.5, 'Reward per episode')"
      ]
     },
     "execution_count": 8,
     "metadata": {},
     "output_type": "execute_result"
    },
    {
     "data": {
      "image/png": "[encoded data removed]",
      "text/plain": [
       "<Figure size 432x288 with 1 Axes>"
      ]
     },
     "metadata": {
      "needs_background": "light"
     },
     "output_type": "display_data"
    }
   ],
   "source": [
    "scores = np.array(scores)\n",
    "max_scores = np.max(scores, 1)\n",
    "running_window_length = 100\n",
    "running_avg = np.zeros((len(max_scores), ))\n",
    "for i in range(running_window_length, len(max_scores)):\n",
    "    running_avg[i] = np.mean(max_scores[i-100:i])\n",
    "plt.plot(max_scores, 'b')\n",
    "plt.plot(running_avg, 'r')\n",
    "plt.title('Reward obtained per episode using MADDPG(using a common critic)')\n",
    "plt.xlabel('Episode number')\n",
    "plt.ylabel('Reward per episode')"
   ]
  },
  {
   "cell_type": "code",
   "execution_count": null,
   "metadata": {},
   "outputs": [],
   "source": []
  }
 ],
 "metadata": {
  "kernelspec": {
   "display_name": "Python 3.7 (XPython)",
   "language": "python",
   "name": "xpython"
  },
  "language_info": {
   "file_extension": ".py",
   "mimetype": "text/x-python",
   "name": "python",
   "version": "3.7.10"
  }
 },
 "nbformat": 4,
 "nbformat_minor": 4
}
